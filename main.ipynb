{
 "cells": [
  {
   "cell_type": "markdown",
   "id": "99ffa78e",
   "metadata": {},
   "source": [
    "# Number of SUBE Transactions (uses) per Day (2020–2025)"
   ]
  },
  {
   "cell_type": "markdown",
   "id": "c4b5fc52",
   "metadata": {},
   "source": [
    "The datasets contain daily records of SUBE smart card transactions in Argentina between 2020 and 2025. They provide detailed information about transport usage across different modes (bus, train, subway, and boats), companies, and lines. Each entry includes the date, company name, line description, jurisdiction (national, provincial, or municipal), and whether the service operates within the AMBA region. Additional fields specify the province or municipality when applicable, the total number of validated transactions (net of reversals), and whether the data is preliminary. This structure allows for a comprehensive analysis of mobility patterns and public transport demand at multiple geographic and administrative levels."
   ]
  },
  {
   "cell_type": "code",
   "execution_count": 5,
   "id": "4b47c237",
   "metadata": {},
   "outputs": [],
   "source": [
    "# paths\n",
    "path = 'G:/Mi unidad/Analisis de datos/SUBE/datasets'"
   ]
  },
  {
   "cell_type": "code",
   "execution_count": 6,
   "id": "2a619ec1",
   "metadata": {},
   "outputs": [],
   "source": [
    "# libraries\n",
    "import pandas as pd\n",
    "import matplotlib.pyplot as plt\n",
    "import numpy as np\n",
    "import glob\n",
    "import os"
   ]
  },
  {
   "cell_type": "code",
   "execution_count": 7,
   "id": "bf0e80ca",
   "metadata": {},
   "outputs": [],
   "source": [
    "# find all datasets in folder\n",
    "all_files = glob.glob(os.path.join(path, '*.csv'))"
   ]
  },
  {
   "cell_type": "code",
   "execution_count": 8,
   "id": "1766e52b",
   "metadata": {},
   "outputs": [
    {
     "name": "stdout",
     "output_type": "stream",
     "text": [
      "Number of file loaded:  6\n",
      "Shape of dataframe:  (2538678, 10)\n"
     ]
    }
   ],
   "source": [
    "# read and concat all datasets in a dataframe\n",
    "df = pd.concat((pd.read_csv(f) for f in all_files), ignore_index=True)\n",
    "\n",
    "print('Number of file loaded: ', len(all_files))\n",
    "print('Shape of dataframe: ', df.shape)"
   ]
  },
  {
   "cell_type": "code",
   "execution_count": 9,
   "id": "5630b559",
   "metadata": {},
   "outputs": [
    {
     "name": "stdout",
     "output_type": "stream",
     "text": [
      "<class 'pandas.core.frame.DataFrame'>\n",
      "RangeIndex: 2538678 entries, 0 to 2538677\n",
      "Data columns (total 10 columns):\n",
      " #   Column           Dtype \n",
      "---  ------           ----- \n",
      " 0   DIA_TRANSPORTE   object\n",
      " 1   NOMBRE_EMPRESA   object\n",
      " 2   LINEA            object\n",
      " 3   AMBA             object\n",
      " 4   TIPO_TRANSPORTE  object\n",
      " 5   JURISDICCION     object\n",
      " 6   PROVINCIA        object\n",
      " 7   MUNICIPIO        object\n",
      " 8   CANTIDAD         int64 \n",
      " 9   DATO_PRELIMINAR  object\n",
      "dtypes: int64(1), object(9)\n",
      "memory usage: 193.7+ MB\n"
     ]
    }
   ],
   "source": [
    "df.info()"
   ]
  },
  {
   "cell_type": "code",
   "execution_count": 10,
   "id": "184293cc",
   "metadata": {},
   "outputs": [
    {
     "data": {
      "text/html": [
       "<div>\n",
       "<style scoped>\n",
       "    .dataframe tbody tr th:only-of-type {\n",
       "        vertical-align: middle;\n",
       "    }\n",
       "\n",
       "    .dataframe tbody tr th {\n",
       "        vertical-align: top;\n",
       "    }\n",
       "\n",
       "    .dataframe thead th {\n",
       "        text-align: right;\n",
       "    }\n",
       "</style>\n",
       "<table border=\"1\" class=\"dataframe\">\n",
       "  <thead>\n",
       "    <tr style=\"text-align: right;\">\n",
       "      <th></th>\n",
       "      <th>DIA_TRANSPORTE</th>\n",
       "      <th>NOMBRE_EMPRESA</th>\n",
       "      <th>LINEA</th>\n",
       "      <th>AMBA</th>\n",
       "      <th>TIPO_TRANSPORTE</th>\n",
       "      <th>JURISDICCION</th>\n",
       "      <th>PROVINCIA</th>\n",
       "      <th>MUNICIPIO</th>\n",
       "      <th>CANTIDAD</th>\n",
       "      <th>DATO_PRELIMINAR</th>\n",
       "    </tr>\n",
       "  </thead>\n",
       "  <tbody>\n",
       "    <tr>\n",
       "      <th>0</th>\n",
       "      <td>2024-01-01</td>\n",
       "      <td>MUNICIPALIDAD DE MERCEDES PROVINCIA DE BUENOS ...</td>\n",
       "      <td>1</td>\n",
       "      <td>SI</td>\n",
       "      <td>COLECTIVO</td>\n",
       "      <td>MUNICIPAL</td>\n",
       "      <td>BUENOS AIRES</td>\n",
       "      <td>MERCEDES</td>\n",
       "      <td>175</td>\n",
       "      <td>NO</td>\n",
       "    </tr>\n",
       "    <tr>\n",
       "      <th>1</th>\n",
       "      <td>2024-01-01</td>\n",
       "      <td>MUNICIPALIDAD DE MERCEDES PROVINCIA DE BUENOS ...</td>\n",
       "      <td>2B</td>\n",
       "      <td>SI</td>\n",
       "      <td>COLECTIVO</td>\n",
       "      <td>MUNICIPAL</td>\n",
       "      <td>BUENOS AIRES</td>\n",
       "      <td>MERCEDES</td>\n",
       "      <td>14</td>\n",
       "      <td>NO</td>\n",
       "    </tr>\n",
       "    <tr>\n",
       "      <th>2</th>\n",
       "      <td>2024-01-01</td>\n",
       "      <td>EMPRESA BATAN S.A.</td>\n",
       "      <td>BS_AS_LINEA 715M</td>\n",
       "      <td>NO</td>\n",
       "      <td>COLECTIVO</td>\n",
       "      <td>MUNICIPAL</td>\n",
       "      <td>BUENOS AIRES</td>\n",
       "      <td>GENERAL PUEYRREDON</td>\n",
       "      <td>1811</td>\n",
       "      <td>NO</td>\n",
       "    </tr>\n",
       "    <tr>\n",
       "      <th>3</th>\n",
       "      <td>2024-01-01</td>\n",
       "      <td>EMPRESA BATAN S.A.</td>\n",
       "      <td>BS_AS_LINEA 720M</td>\n",
       "      <td>NO</td>\n",
       "      <td>COLECTIVO</td>\n",
       "      <td>MUNICIPAL</td>\n",
       "      <td>BUENOS AIRES</td>\n",
       "      <td>GENERAL PUEYRREDON</td>\n",
       "      <td>576</td>\n",
       "      <td>NO</td>\n",
       "    </tr>\n",
       "  </tbody>\n",
       "</table>\n",
       "</div>"
      ],
      "text/plain": [
       "  DIA_TRANSPORTE                                     NOMBRE_EMPRESA  \\\n",
       "0     2024-01-01  MUNICIPALIDAD DE MERCEDES PROVINCIA DE BUENOS ...   \n",
       "1     2024-01-01  MUNICIPALIDAD DE MERCEDES PROVINCIA DE BUENOS ...   \n",
       "2     2024-01-01                                 EMPRESA BATAN S.A.   \n",
       "3     2024-01-01                                 EMPRESA BATAN S.A.   \n",
       "\n",
       "              LINEA AMBA TIPO_TRANSPORTE JURISDICCION     PROVINCIA  \\\n",
       "0                 1   SI       COLECTIVO    MUNICIPAL  BUENOS AIRES   \n",
       "1                2B   SI       COLECTIVO    MUNICIPAL  BUENOS AIRES   \n",
       "2  BS_AS_LINEA 715M   NO       COLECTIVO    MUNICIPAL  BUENOS AIRES   \n",
       "3  BS_AS_LINEA 720M   NO       COLECTIVO    MUNICIPAL  BUENOS AIRES   \n",
       "\n",
       "            MUNICIPIO  CANTIDAD DATO_PRELIMINAR  \n",
       "0            MERCEDES       175              NO  \n",
       "1            MERCEDES        14              NO  \n",
       "2  GENERAL PUEYRREDON      1811              NO  \n",
       "3  GENERAL PUEYRREDON       576              NO  "
      ]
     },
     "execution_count": 10,
     "metadata": {},
     "output_type": "execute_result"
    }
   ],
   "source": [
    "df.head(4)"
   ]
  },
  {
   "cell_type": "code",
   "execution_count": 11,
   "id": "8c4866fb",
   "metadata": {},
   "outputs": [],
   "source": [
    "# rename columns\n",
    "df.columns = ['date', 'empresa', 'linea', 'amba', 'tipo', 'jurisdiccion', 'provincia', 'municipio', 'cantidad', 'preliminar']"
   ]
  },
  {
   "cell_type": "code",
   "execution_count": 12,
   "id": "b6a7358f",
   "metadata": {},
   "outputs": [],
   "source": [
    "# delete unnecesary column\n",
    "del df['preliminar']"
   ]
  },
  {
   "cell_type": "code",
   "execution_count": 13,
   "id": "f0bcfefc",
   "metadata": {},
   "outputs": [
    {
     "data": {
      "text/plain": [
       "date                0\n",
       "empresa             0\n",
       "linea               0\n",
       "amba                0\n",
       "tipo                0\n",
       "jurisdiccion    14902\n",
       "provincia       14939\n",
       "municipio       14939\n",
       "cantidad            0\n",
       "dtype: int64"
      ]
     },
     "execution_count": 13,
     "metadata": {},
     "output_type": "execute_result"
    }
   ],
   "source": [
    "# number of nan\n",
    "df.isna().sum()"
   ]
  },
  {
   "cell_type": "code",
   "execution_count": 14,
   "id": "050d180c",
   "metadata": {},
   "outputs": [],
   "source": [
    "# clear nan\n",
    "df.dropna(inplace = True)"
   ]
  },
  {
   "cell_type": "code",
   "execution_count": 15,
   "id": "45b6cb8e",
   "metadata": {},
   "outputs": [
    {
     "data": {
      "text/html": [
       "<div>\n",
       "<style scoped>\n",
       "    .dataframe tbody tr th:only-of-type {\n",
       "        vertical-align: middle;\n",
       "    }\n",
       "\n",
       "    .dataframe tbody tr th {\n",
       "        vertical-align: top;\n",
       "    }\n",
       "\n",
       "    .dataframe thead th {\n",
       "        text-align: right;\n",
       "    }\n",
       "</style>\n",
       "<table border=\"1\" class=\"dataframe\">\n",
       "  <thead>\n",
       "    <tr style=\"text-align: right;\">\n",
       "      <th></th>\n",
       "      <th>date</th>\n",
       "      <th>empresa</th>\n",
       "      <th>linea</th>\n",
       "      <th>amba</th>\n",
       "      <th>tipo</th>\n",
       "      <th>jurisdiccion</th>\n",
       "      <th>provincia</th>\n",
       "      <th>municipio</th>\n",
       "      <th>cantidad</th>\n",
       "    </tr>\n",
       "  </thead>\n",
       "  <tbody>\n",
       "    <tr>\n",
       "      <th>0</th>\n",
       "      <td>2024-01-01</td>\n",
       "      <td>MUNICIPALIDAD DE MERCEDES PROVINCIA DE BUENOS ...</td>\n",
       "      <td>1</td>\n",
       "      <td>SI</td>\n",
       "      <td>COLECTIVO</td>\n",
       "      <td>MUNICIPAL</td>\n",
       "      <td>BUENOS AIRES</td>\n",
       "      <td>MERCEDES</td>\n",
       "      <td>175</td>\n",
       "    </tr>\n",
       "    <tr>\n",
       "      <th>1</th>\n",
       "      <td>2024-01-01</td>\n",
       "      <td>MUNICIPALIDAD DE MERCEDES PROVINCIA DE BUENOS ...</td>\n",
       "      <td>2B</td>\n",
       "      <td>SI</td>\n",
       "      <td>COLECTIVO</td>\n",
       "      <td>MUNICIPAL</td>\n",
       "      <td>BUENOS AIRES</td>\n",
       "      <td>MERCEDES</td>\n",
       "      <td>14</td>\n",
       "    </tr>\n",
       "    <tr>\n",
       "      <th>2</th>\n",
       "      <td>2024-01-01</td>\n",
       "      <td>EMPRESA BATAN S.A.</td>\n",
       "      <td>BS_AS_LINEA 715M</td>\n",
       "      <td>NO</td>\n",
       "      <td>COLECTIVO</td>\n",
       "      <td>MUNICIPAL</td>\n",
       "      <td>BUENOS AIRES</td>\n",
       "      <td>GENERAL PUEYRREDON</td>\n",
       "      <td>1811</td>\n",
       "    </tr>\n",
       "    <tr>\n",
       "      <th>3</th>\n",
       "      <td>2024-01-01</td>\n",
       "      <td>EMPRESA BATAN S.A.</td>\n",
       "      <td>BS_AS_LINEA 720M</td>\n",
       "      <td>NO</td>\n",
       "      <td>COLECTIVO</td>\n",
       "      <td>MUNICIPAL</td>\n",
       "      <td>BUENOS AIRES</td>\n",
       "      <td>GENERAL PUEYRREDON</td>\n",
       "      <td>576</td>\n",
       "    </tr>\n",
       "  </tbody>\n",
       "</table>\n",
       "</div>"
      ],
      "text/plain": [
       "        date                                            empresa  \\\n",
       "0 2024-01-01  MUNICIPALIDAD DE MERCEDES PROVINCIA DE BUENOS ...   \n",
       "1 2024-01-01  MUNICIPALIDAD DE MERCEDES PROVINCIA DE BUENOS ...   \n",
       "2 2024-01-01                                 EMPRESA BATAN S.A.   \n",
       "3 2024-01-01                                 EMPRESA BATAN S.A.   \n",
       "\n",
       "              linea amba       tipo jurisdiccion     provincia  \\\n",
       "0                 1   SI  COLECTIVO    MUNICIPAL  BUENOS AIRES   \n",
       "1                2B   SI  COLECTIVO    MUNICIPAL  BUENOS AIRES   \n",
       "2  BS_AS_LINEA 715M   NO  COLECTIVO    MUNICIPAL  BUENOS AIRES   \n",
       "3  BS_AS_LINEA 720M   NO  COLECTIVO    MUNICIPAL  BUENOS AIRES   \n",
       "\n",
       "            municipio  cantidad  \n",
       "0            MERCEDES       175  \n",
       "1            MERCEDES        14  \n",
       "2  GENERAL PUEYRREDON      1811  \n",
       "3  GENERAL PUEYRREDON       576  "
      ]
     },
     "execution_count": 15,
     "metadata": {},
     "output_type": "execute_result"
    }
   ],
   "source": [
    "# convert string date to datetime\n",
    "df['date'] = pd.to_datetime(df['date'])\n",
    "df.head(4)"
   ]
  },
  {
   "cell_type": "code",
   "execution_count": 16,
   "id": "66146450",
   "metadata": {},
   "outputs": [],
   "source": [
    "# sort values by date\n",
    "df = df.sort_values('date')"
   ]
  },
  {
   "cell_type": "code",
   "execution_count": 17,
   "id": "b8228e75",
   "metadata": {},
   "outputs": [
    {
     "data": {
      "text/html": [
       "<div>\n",
       "<style scoped>\n",
       "    .dataframe tbody tr th:only-of-type {\n",
       "        vertical-align: middle;\n",
       "    }\n",
       "\n",
       "    .dataframe tbody tr th {\n",
       "        vertical-align: top;\n",
       "    }\n",
       "\n",
       "    .dataframe thead th {\n",
       "        text-align: right;\n",
       "    }\n",
       "</style>\n",
       "<table border=\"1\" class=\"dataframe\">\n",
       "  <thead>\n",
       "    <tr style=\"text-align: right;\">\n",
       "      <th></th>\n",
       "      <th>date</th>\n",
       "      <th>empresa</th>\n",
       "      <th>linea</th>\n",
       "      <th>amba</th>\n",
       "      <th>tipo</th>\n",
       "      <th>jurisdiccion</th>\n",
       "      <th>provincia</th>\n",
       "      <th>municipio</th>\n",
       "      <th>cantidad</th>\n",
       "      <th>variacion</th>\n",
       "    </tr>\n",
       "  </thead>\n",
       "  <tbody>\n",
       "    <tr>\n",
       "      <th>1827575</th>\n",
       "      <td>2020-01-01</td>\n",
       "      <td>CRUCERO DEL SUR AGRUPACION</td>\n",
       "      <td>LINEA_060_FOR</td>\n",
       "      <td>NO</td>\n",
       "      <td>COLECTIVO</td>\n",
       "      <td>MUNICIPAL</td>\n",
       "      <td>FORMOSA</td>\n",
       "      <td>FORMOSA</td>\n",
       "      <td>456</td>\n",
       "      <td>NaN</td>\n",
       "    </tr>\n",
       "    <tr>\n",
       "      <th>1827448</th>\n",
       "      <td>2020-01-01</td>\n",
       "      <td>EMPRESA MAIPU S.R.L</td>\n",
       "      <td>LINEA 861</td>\n",
       "      <td>NO</td>\n",
       "      <td>COLECTIVO</td>\n",
       "      <td>PROVINCIAL</td>\n",
       "      <td>MENDOZA</td>\n",
       "      <td>SN</td>\n",
       "      <td>10</td>\n",
       "      <td>-446.0</td>\n",
       "    </tr>\n",
       "    <tr>\n",
       "      <th>1827449</th>\n",
       "      <td>2020-01-01</td>\n",
       "      <td>EMPRESA MAIPU S.R.L</td>\n",
       "      <td>LINEA 863</td>\n",
       "      <td>NO</td>\n",
       "      <td>COLECTIVO</td>\n",
       "      <td>PROVINCIAL</td>\n",
       "      <td>MENDOZA</td>\n",
       "      <td>SN</td>\n",
       "      <td>8</td>\n",
       "      <td>-2.0</td>\n",
       "    </tr>\n",
       "    <tr>\n",
       "      <th>1827450</th>\n",
       "      <td>2020-01-01</td>\n",
       "      <td>EMPRESA MAIPU S.R.L</td>\n",
       "      <td>LINEA 864</td>\n",
       "      <td>NO</td>\n",
       "      <td>COLECTIVO</td>\n",
       "      <td>PROVINCIAL</td>\n",
       "      <td>MENDOZA</td>\n",
       "      <td>SN</td>\n",
       "      <td>4</td>\n",
       "      <td>-4.0</td>\n",
       "    </tr>\n",
       "    <tr>\n",
       "      <th>1827451</th>\n",
       "      <td>2020-01-01</td>\n",
       "      <td>EMPRESA MAIPU S.R.L</td>\n",
       "      <td>LINEA 865</td>\n",
       "      <td>NO</td>\n",
       "      <td>COLECTIVO</td>\n",
       "      <td>PROVINCIAL</td>\n",
       "      <td>MENDOZA</td>\n",
       "      <td>SN</td>\n",
       "      <td>4</td>\n",
       "      <td>0.0</td>\n",
       "    </tr>\n",
       "    <tr>\n",
       "      <th>...</th>\n",
       "      <td>...</td>\n",
       "      <td>...</td>\n",
       "      <td>...</td>\n",
       "      <td>...</td>\n",
       "      <td>...</td>\n",
       "      <td>...</td>\n",
       "      <td>...</td>\n",
       "      <td>...</td>\n",
       "      <td>...</td>\n",
       "      <td>...</td>\n",
       "    </tr>\n",
       "    <tr>\n",
       "      <th>2537643</th>\n",
       "      <td>2025-09-03</td>\n",
       "      <td>EMPRESA MAIPU S.R.L.</td>\n",
       "      <td>LINEA 294</td>\n",
       "      <td>NO</td>\n",
       "      <td>COLECTIVO</td>\n",
       "      <td>PROVINCIAL</td>\n",
       "      <td>MENDOZA</td>\n",
       "      <td>SN</td>\n",
       "      <td>15</td>\n",
       "      <td>-9.0</td>\n",
       "    </tr>\n",
       "    <tr>\n",
       "      <th>2537642</th>\n",
       "      <td>2025-09-03</td>\n",
       "      <td>EMPRESA MAIPU S.R.L.</td>\n",
       "      <td>LINEA 293</td>\n",
       "      <td>NO</td>\n",
       "      <td>COLECTIVO</td>\n",
       "      <td>PROVINCIAL</td>\n",
       "      <td>MENDOZA</td>\n",
       "      <td>SN</td>\n",
       "      <td>3</td>\n",
       "      <td>-12.0</td>\n",
       "    </tr>\n",
       "    <tr>\n",
       "      <th>2537641</th>\n",
       "      <td>2025-09-03</td>\n",
       "      <td>EMPRESA MAIPU S.R.L.</td>\n",
       "      <td>LINEA 292</td>\n",
       "      <td>NO</td>\n",
       "      <td>COLECTIVO</td>\n",
       "      <td>PROVINCIAL</td>\n",
       "      <td>MENDOZA</td>\n",
       "      <td>SN</td>\n",
       "      <td>7</td>\n",
       "      <td>4.0</td>\n",
       "    </tr>\n",
       "    <tr>\n",
       "      <th>2537903</th>\n",
       "      <td>2025-09-03</td>\n",
       "      <td>EMPRESA EL QUEBRACHAL S.R.L</td>\n",
       "      <td>LINEA 72</td>\n",
       "      <td>NO</td>\n",
       "      <td>COLECTIVO</td>\n",
       "      <td>MUNICIPAL</td>\n",
       "      <td>CORDOBA</td>\n",
       "      <td>CORDOBA</td>\n",
       "      <td>2755</td>\n",
       "      <td>2748.0</td>\n",
       "    </tr>\n",
       "    <tr>\n",
       "      <th>2538677</th>\n",
       "      <td>2025-09-03</td>\n",
       "      <td>S.A TRANSPORTE CIUDAD DE RIO CUARTO</td>\n",
       "      <td>TRONCAL D</td>\n",
       "      <td>NO</td>\n",
       "      <td>COLECTIVO</td>\n",
       "      <td>MUNICIPAL</td>\n",
       "      <td>CORDOBA</td>\n",
       "      <td>RIO CUARTO</td>\n",
       "      <td>403</td>\n",
       "      <td>-2352.0</td>\n",
       "    </tr>\n",
       "  </tbody>\n",
       "</table>\n",
       "<p>2523739 rows × 10 columns</p>\n",
       "</div>"
      ],
      "text/plain": [
       "              date                              empresa          linea amba  \\\n",
       "1827575 2020-01-01           CRUCERO DEL SUR AGRUPACION  LINEA_060_FOR   NO   \n",
       "1827448 2020-01-01                  EMPRESA MAIPU S.R.L      LINEA 861   NO   \n",
       "1827449 2020-01-01                  EMPRESA MAIPU S.R.L      LINEA 863   NO   \n",
       "1827450 2020-01-01                  EMPRESA MAIPU S.R.L      LINEA 864   NO   \n",
       "1827451 2020-01-01                  EMPRESA MAIPU S.R.L      LINEA 865   NO   \n",
       "...            ...                                  ...            ...  ...   \n",
       "2537643 2025-09-03                 EMPRESA MAIPU S.R.L.      LINEA 294   NO   \n",
       "2537642 2025-09-03                 EMPRESA MAIPU S.R.L.      LINEA 293   NO   \n",
       "2537641 2025-09-03                 EMPRESA MAIPU S.R.L.      LINEA 292   NO   \n",
       "2537903 2025-09-03          EMPRESA EL QUEBRACHAL S.R.L       LINEA 72   NO   \n",
       "2538677 2025-09-03  S.A TRANSPORTE CIUDAD DE RIO CUARTO      TRONCAL D   NO   \n",
       "\n",
       "              tipo jurisdiccion provincia   municipio  cantidad  variacion  \n",
       "1827575  COLECTIVO    MUNICIPAL   FORMOSA     FORMOSA       456        NaN  \n",
       "1827448  COLECTIVO   PROVINCIAL   MENDOZA          SN        10     -446.0  \n",
       "1827449  COLECTIVO   PROVINCIAL   MENDOZA          SN         8       -2.0  \n",
       "1827450  COLECTIVO   PROVINCIAL   MENDOZA          SN         4       -4.0  \n",
       "1827451  COLECTIVO   PROVINCIAL   MENDOZA          SN         4        0.0  \n",
       "...            ...          ...       ...         ...       ...        ...  \n",
       "2537643  COLECTIVO   PROVINCIAL   MENDOZA          SN        15       -9.0  \n",
       "2537642  COLECTIVO   PROVINCIAL   MENDOZA          SN         3      -12.0  \n",
       "2537641  COLECTIVO   PROVINCIAL   MENDOZA          SN         7        4.0  \n",
       "2537903  COLECTIVO    MUNICIPAL   CORDOBA     CORDOBA      2755     2748.0  \n",
       "2538677  COLECTIVO    MUNICIPAL   CORDOBA  RIO CUARTO       403    -2352.0  \n",
       "\n",
       "[2523739 rows x 10 columns]"
      ]
     },
     "execution_count": 17,
     "metadata": {},
     "output_type": "execute_result"
    }
   ],
   "source": [
    "# growth or decline in daily transactions\n",
    "# variacion > 0: growth (more transactions than the last day).\n",
    "# variacion < 0: decline\n",
    "#variacion = 0: no changes\n",
    "\n",
    "df['variacion'] = df['cantidad'].diff()\n",
    "df"
   ]
  },
  {
   "cell_type": "code",
   "execution_count": 18,
   "id": "1d440e4c",
   "metadata": {},
   "outputs": [],
   "source": [
    "# growth percent\n",
    "df['variacion_pct'] = df['cantidad'].pct_change() * 100"
   ]
  },
  {
   "cell_type": "code",
   "execution_count": 19,
   "id": "db9d4b93",
   "metadata": {},
   "outputs": [],
   "source": [
    "# identify growth/decrease streaks\n",
    "import numpy as np\n",
    "\n",
    "df['tendencia'] = np.where(df['variacion'] > 0, 'Crecimiento',\n",
    "                   np.where(df['variacion'] < 0, 'Decrecimiento', 'Estable'))"
   ]
  },
  {
   "cell_type": "code",
   "execution_count": 20,
   "id": "79a14b54",
   "metadata": {},
   "outputs": [],
   "source": [
    "# To avoid daily “noise” (small increases and decreases), we apply a moving average\n",
    "df['cantidad_mm7'] = df['cantidad'].rolling(window=7).mean()\n"
   ]
  },
  {
   "cell_type": "markdown",
   "id": "53237682",
   "metadata": {},
   "source": [
    "# Visualization"
   ]
  },
  {
   "cell_type": "code",
   "execution_count": 21,
   "id": "8b3f5739",
   "metadata": {},
   "outputs": [
    {
     "data": {
      "image/png": "[encoded data removed]",
      "text/plain": [
       "<Figure size 1200x600 with 1 Axes>"
      ]
     },
     "metadata": {},
     "output_type": "display_data"
    }
   ],
   "source": [
    "y1= df['cantidad'] / 1000\n",
    "y2 = df['cantidad_mm7'] / 1000\n",
    "\n",
    "plt.figure(figsize=(12,6))\n",
    "plt.plot(df['date'], y1 , label='Transacciones en miles')\n",
    "plt.plot(df['date'], y2 , label='Media móvil (7 días) en miles', linewidth=2)\n",
    "plt.legend()\n",
    "plt.show()\n"
   ]
  },
  {
   "cell_type": "code",
   "execution_count": 22,
   "id": "1f133555",
   "metadata": {},
   "outputs": [
    {
     "name": "stdout",
     "output_type": "stream",
     "text": [
      "Total de transacciones en 2025: 18806158680\n"
     ]
    }
   ],
   "source": [
    "# number of transactions in 2025\n",
    "total_transacciones = df['cantidad'].sum()\n",
    "print(\"Total de transacciones en 2025:\", total_transacciones)"
   ]
  },
  {
   "cell_type": "code",
   "execution_count": 23,
   "id": "2b673ed3",
   "metadata": {},
   "outputs": [
    {
     "name": "stdout",
     "output_type": "stream",
     "text": [
      "Promedio diario de transacciones: 9071953.0\n",
      "Fecha con más cantidad de viajes: 2023-10-12 (viajes: 16488011)\n",
      "Fecha con menos cantidad de viajes: 2021-11-14  (viajes: 546092)\n"
     ]
    }
   ],
   "source": [
    "# mean, max and min daily of transaction\n",
    "diario = df.groupby('date')['cantidad'].sum()\n",
    "\n",
    "promedio = diario.mean()\n",
    "maximo = diario.max()\n",
    "minimo = diario.min()\n",
    "fecha_max = diario.idxmax()\n",
    "fecha_min = diario.idxmin()\n",
    "\n",
    "print(f'Promedio diario de transacciones: {round(promedio,0)}')\n",
    "print(f'Fecha con más cantidad de viajes: {fecha_max.date()} (viajes: {round(maximo,0)})')\n",
    "print(f'Fecha con menos cantidad de viajes: {fecha_min.date()}  (viajes: {round(minimo,0)})')"
   ]
  },
  {
   "cell_type": "code",
   "execution_count": 24,
   "id": "da79dda3",
   "metadata": {},
   "outputs": [
    {
     "name": "stdout",
     "output_type": "stream",
     "text": [
      "Empresa con más transacciones totales:  SOFSE - Roca\n"
     ]
    }
   ],
   "source": [
    "# company with the most total transactions.\n",
    "empresas = df.groupby('empresa')['cantidad'].sum()\n",
    "\n",
    "# order by empresa\n",
    "empresas = empresas.sort_values(ascending=False)\n",
    "\n",
    "empresa_top = empresas.head(1)\n",
    "print('Empresa con más transacciones totales: ', empresa_top.index[0])"
   ]
  },
  {
   "cell_type": "code",
   "execution_count": 25,
   "id": "5768faa0",
   "metadata": {},
   "outputs": [
    {
     "name": "stdout",
     "output_type": "stream",
     "text": [
      "5 empresas más usadas en 2025: \n",
      "SOFSE - Roca\n",
      "TRANSPORTES LA PERLITA S.A. \n",
      "EMPRESA LINEA 216 S.A.T.\n",
      "SOFSE- SARMIENTO\n",
      "LA CABAÑA S.A.\n"
     ]
    }
   ],
   "source": [
    "# 5 most used companies in 2025\n",
    "print(f'5 empresas más usadas en 2025: ')\n",
    "lista_empresas = empresas.head(5).index.to_list()\n",
    "for empresa in lista_empresas: \n",
    "    print(empresa)"
   ]
  },
  {
   "cell_type": "code",
   "execution_count": 26,
   "id": "5dcaa735",
   "metadata": {},
   "outputs": [
    {
     "name": "stdout",
     "output_type": "stream",
     "text": [
      "Total de transacciones del primer semestre (Ene-Jun):  9515795252\n",
      "Total de transacciones del segundo semestre (Jul-Dic):  9290363428\n",
      "Hubo más transacciones en el primer semestre.\n"
     ]
    }
   ],
   "source": [
    "# Comparison of the number of transactions between the first and second semesters\n",
    "df['mes'] = df['date'].dt.month\n",
    "\n",
    "# totals per semester\n",
    "primer_semestre = df[df['mes'].between(1, 6)]['cantidad'].sum()\n",
    "segundo_semestre = df[df['mes'].between(7, 12)]['cantidad'].sum()\n",
    "\n",
    "print('Total de transacciones del primer semestre (Ene-Jun): ', primer_semestre)\n",
    "print('Total de transacciones del segundo semestre (Jul-Dic): ', segundo_semestre)\n",
    "\n",
    "# comparison\n",
    "if primer_semestre > segundo_semestre:\n",
    "    print('Hubo más transacciones en el primer semestre.')\n",
    "elif segundo_semestre > primer_semestre:\n",
    "    print('Hubo más transacciones en el segundo semestre.')\n",
    "else:\n",
    "    print('Ambos semestres tuvieron la misma cantidad de transacciones.')"
   ]
  },
  {
   "cell_type": "code",
   "execution_count": 27,
   "id": "18dadbce",
   "metadata": {},
   "outputs": [
    {
     "name": "stdout",
     "output_type": "stream",
     "text": [
      "Total de transacciones:\n",
      "amba\n",
      "NO     3763391554\n",
      "SI    15042767126\n",
      "Name: cantidad, dtype: int64\n",
      "\n",
      "AMBA: 15042767126\n",
      "NO AMBA: 3763391554\n",
      "\n",
      "% AMBA: 79.99%\n",
      "% NO AMBA: 20.01%\n"
     ]
    }
   ],
   "source": [
    "# transactions AMBA vs NO AMBA\n",
    "# group by AMBA and count\n",
    "transacciones_amba = df.groupby('amba')['cantidad'].sum()\n",
    "\n",
    "print(\"Total de transacciones:\")\n",
    "print(transacciones_amba)\n",
    "\n",
    "# in different variables\n",
    "amba_total = transacciones_amba.get('SI', 0)\n",
    "no_amba_total = transacciones_amba.get('NO', 0)\n",
    "\n",
    "print(f'\\nAMBA: {round(amba_total,0)}')\n",
    "print(f'NO AMBA: {round(no_amba_total,0)}')\n",
    "\n",
    "# percent\n",
    "total = amba_total + no_amba_total\n",
    "print(f'\\n% AMBA: {round((amba_total/total)*100,2)}%')\n",
    "print(f\"% NO AMBA: {round((no_amba_total/total)*100,2)}%\")"
   ]
  },
  {
   "cell_type": "code",
   "execution_count": 28,
   "id": "d73c605d",
   "metadata": {},
   "outputs": [
    {
     "data": {
      "image/png": "[encoded data removed]",
      "text/plain": [
       "<Figure size 600x600 with 1 Axes>"
      ]
     },
     "metadata": {},
     "output_type": "display_data"
    }
   ],
   "source": [
    "transacciones = df.groupby('amba')['cantidad'].sum()\n",
    "\n",
    "plt.figure(figsize=(6,6))\n",
    "plt.pie(\n",
    "    transacciones,\n",
    "    labels= ['AMBA', 'NO AMBA'],\n",
    "    autopct='%1.1f%%',\n",
    "    startangle=90,\n",
    "    colors=[\"skyblue\", \"lightcoral\"]\n",
    ")\n",
    "plt.title('Distribución de transacciones: AMBA vs NO AMBA')\n",
    "plt.show()"
   ]
  },
  {
   "cell_type": "code",
   "execution_count": 29,
   "id": "97586459",
   "metadata": {},
   "outputs": [
    {
     "name": "stdout",
     "output_type": "stream",
     "text": [
      "Total de transacciones por jurisdicción:\n",
      "jurisdiccion\n",
      "NACIONAL      7685214808\n",
      "PROVINCIAL    6013644081\n",
      "MUNICIPAL     4963977617\n",
      "C.A.B.A        143322174\n",
      "Name: cantidad, dtype: int64\n",
      "\n",
      "➡ La jurisdicción con más viajes es: NACIONAL\n"
     ]
    }
   ],
   "source": [
    "# Which jurisdiction (national, provincial, municipal) has the most trips?\n",
    "# group by jurisdicción and calculate total trips \n",
    "viajes_jurisdiccion = df.groupby('jurisdiccion')['cantidad'].sum().sort_values(ascending=False)\n",
    "\n",
    "print('Total de transacciones por jurisdicción:')\n",
    "print(viajes_jurisdiccion)\n",
    "\n",
    "# zone whit more trips\n",
    "top = viajes_jurisdiccion.idxmax()\n",
    "print(f'\\n➡ La jurisdicción con más viajes es: {top}')"
   ]
  },
  {
   "cell_type": "code",
   "execution_count": 30,
   "id": "87ae4bec",
   "metadata": {},
   "outputs": [
    {
     "data": {
      "image/png": "[encoded data removed]",
      "text/plain": [
       "<Figure size 800x500 with 1 Axes>"
      ]
     },
     "metadata": {},
     "output_type": "display_data"
    }
   ],
   "source": [
    "# Plot bars\n",
    "\n",
    "plt.figure(figsize=(8,5))\n",
    "viajes_jurisdiccion.plot(kind='bar', color=['skyblue', 'lightgreen', 'salmon'])\n",
    "\n",
    "\n",
    "plt.title('Total de transacciones por Jurisdicción 2020-2025')\n",
    "plt.xlabel('Jurisdicción')\n",
    "plt.ylabel('Cantidad de viajes ($10^9$)')\n",
    "plt.xticks(rotation=0)   # mantiene los nombres horizontales\n",
    "plt.grid(axis='y', linestyle='--', alpha=0.7)\n",
    "\n",
    "plt.show()"
   ]
  },
  {
   "cell_type": "code",
   "execution_count": 32,
   "id": "7650ef40",
   "metadata": {},
   "outputs": [
    {
     "data": {
      "image/png": "[encoded data removed]",
      "text/plain": [
       "<Figure size 1200x600 with 1 Axes>"
      ]
     },
     "metadata": {},
     "output_type": "display_data"
    }
   ],
   "source": [
    "# Ranking of provinces with the highest number of transactions\n",
    "# Group by province and calculate total transactions\n",
    "ranking_provincias = (\n",
    "    df.groupby('provincia')['cantidad']\n",
    "      .sum()\n",
    "      .sort_values(ascending=False)\n",
    "      .reset_index()\n",
    ")\n",
    "\n",
    "# Bar chart with Matplotlib\n",
    "plt.figure(figsize=(12,6))\n",
    "plt.bar(\n",
    "    ranking_provincias['provincia'],\n",
    "    ranking_provincias['cantidad'],\n",
    "    color='skyblue',\n",
    "    edgecolor='black'\n",
    ")\n",
    "\n",
    "# Personalization\n",
    "plt.title('Ranking de provincias por cantidad de transacciones')\n",
    "plt.xlabel('Provincia')\n",
    "plt.ylabel('Cantidad de transacciones (x $10^6$)')  # example with scale in millions\n",
    "plt.xticks(rotation=90)   # rotate the names so they don't overlap\n",
    "plt.grid(axis='y', linestyle='--', alpha=0.7)\n",
    "\n",
    "# Show chart\n",
    "plt.tight_layout()\n",
    "plt.show()"
   ]
  },
  {
   "cell_type": "markdown",
   "id": "70aadc3c",
   "metadata": {},
   "source": [
    "Analysis of the trend of the temporal set using Mann-Kendall"
   ]
  },
  {
   "cell_type": "code",
   "execution_count": 37,
   "id": "c2469846",
   "metadata": {},
   "outputs": [
    {
     "name": "stdout",
     "output_type": "stream",
     "text": [
      "Resultado Mann-Kendall:\n",
      "\n",
      "Tendencia : increasing\n",
      "p-value   : 0.0\n",
      "Tau       : 0.3334166811011963\n",
      "S         : 716055.0\n",
      "Var(S)    : 990533757.6666666\n",
      "Z         : 22.75155761421406\n"
     ]
    }
   ],
   "source": [
    "import pymannkendall as mk\n",
    "\n",
    "# Daily serie\n",
    "diario = df.groupby(\"date\")[\"cantidad\"].sum().reset_index()\n",
    "\n",
    "# Serie diaria\n",
    "serie = diario['cantidad'].values\n",
    "\n",
    "resultado = mk.original_test(serie)\n",
    "\n",
    "print('Resultado Mann-Kendall:\\n')\n",
    "print('Tendencia :', resultado.trend)\n",
    "print('p-value   :', resultado.p)\n",
    "print('Tau       :', resultado.Tau)\n",
    "print('S         :', resultado.s)\n",
    "print('Var(S)    :', resultado.var_s)\n",
    "print('Z         :', resultado.z)\n"
   ]
  },
  {
   "cell_type": "markdown",
   "id": "d615552f",
   "metadata": {},
   "source": [
    "The Mann–Kendall trend analysis applied to daily transport transactions between 2020 and 2025 provides robust statistical evidence of a significant upward trend in public transport usage. The test result indicating an increasing trend, together with a virtually zero p-value and a very high Z statistic, confirms that the observed pattern is not attributable to random variation. The Kendall’s Tau coefficient (~0.33) suggests a moderate but consistent positive trend, which is consistent with the progressive recovery of mobility following the sharp decline during the COVID-19 pandemic in 2020 and the subsequent steady increase in travel demand. Overall, the results demonstrate a clear and statistically significant recovery in transport transactions over the 2020–2025 period, highlighting a sustained growth in the utilization of the public transport system."
   ]
  }
 ],
 "metadata": {
  "kernelspec": {
   "display_name": "Python 3",
   "language": "python",
   "name": "python3"
  },
  "language_info": {
   "codemirror_mode": {
    "name": "ipython",
    "version": 3
   },
   "file_extension": ".py",
   "mimetype": "text/x-python",
   "name": "python",
   "nbconvert_exporter": "python",
   "pygments_lexer": "ipython3",
   "version": "3.13.2"
  }
 },
 "nbformat": 4,
 "nbformat_minor": 5
}
